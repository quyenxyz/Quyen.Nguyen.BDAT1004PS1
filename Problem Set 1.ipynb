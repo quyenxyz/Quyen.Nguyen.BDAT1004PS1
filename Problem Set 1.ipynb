{
 "cells": [
  {
   "cell_type": "markdown",
   "id": "20858c19",
   "metadata": {},
   "source": [
    "## Question 1"
   ]
  },
  {
   "cell_type": "raw",
   "id": "b570610f",
   "metadata": {},
   "source": [
    "5              => int\n",
    "5.0            => float\n",
    "5 > 1          => bool\n",
    "'5'            => str\n",
    "5 * 2          => int\n",
    "'5' * 2        => str\n",
    "'5' + '2'      => str\n",
    "5 / 2          => float\n",
    "5 % 2          => int\n",
    "{5, 2, 1}      => set\n",
    "5 == 3         => bool\n",
    "Pi (the number)=> float\n"
   ]
  },
  {
   "cell_type": "markdown",
   "id": "01bae555",
   "metadata": {},
   "source": [
    "## Question 2\n",
    "Write (and evaluate) python expressions that answer these questions:"
   ]
  },
  {
   "cell_type": "code",
   "execution_count": 4,
   "id": "82498ae8",
   "metadata": {},
   "outputs": [
    {
     "name": "stdout",
     "output_type": "stream",
     "text": [
      "34\n"
     ]
    }
   ],
   "source": [
    "#a.\tHow many letters are there in 'Supercalifragilisticexpialidocious'?\n",
    "len('Supercalifragilisticexpialidocious')"
   ]
  },
  {
   "cell_type": "code",
   "execution_count": 5,
   "id": "b9c6e06d",
   "metadata": {},
   "outputs": [
    {
     "name": "stdout",
     "output_type": "stream",
     "text": [
      "True\n"
     ]
    }
   ],
   "source": [
    "#b.\tDoes 'Supercalifragilisticexpialidocious' contain 'ice' as a substring?\n",
    "print('ice' in 'Supercalifragilisticexpialidocious')"
   ]
  },
  {
   "cell_type": "code",
   "execution_count": 6,
   "id": "699743a9",
   "metadata": {},
   "outputs": [
    {
     "name": "stdout",
     "output_type": "stream",
     "text": [
      "The longest word is: Supercalifragilisticexpialidocious\n"
     ]
    }
   ],
   "source": [
    "#c.\tWhich of the following words is the longest: Supercalifragilisticexpialidocious, Honorificabilitudinitatibus, or Bababadalgharaghtakamminarronnkonn?\n",
    "words = [\n",
    "    \"Supercalifragilisticexpialidocious\",\n",
    "    \"Honorificabilitudinitatibus\",\n",
    "    \"Bababadalgharaghtakamminarronnkonn\"\n",
    "]\n",
    "\n",
    "longest_word = max(words, key=len)\n",
    "print(\"The longest word is:\", longest_word)"
   ]
  },
  {
   "cell_type": "code",
   "execution_count": 7,
   "id": "9674cfe7",
   "metadata": {},
   "outputs": [
    {
     "name": "stdout",
     "output_type": "stream",
     "text": [
      "The first composer in the dictionary is: Bartok\n",
      "The last composer in the dictionary is: Buxtehude\n"
     ]
    }
   ],
   "source": [
    "#d.\tWhich composer comes first in the dictionary: 'Berlioz', 'Borodin', 'Brian', 'Bartok', 'Bellini', 'Buxtehude', 'Bernstein'. Which one comes last?\n",
    "composers = ['Berlioz', 'Borodin', 'Brian', 'Bartok', 'Bellini', 'Buxtehude', 'Bernstein']\n",
    "\n",
    "first_composer = min(composers)\n",
    "last_composer = max(composers)\n",
    "\n",
    "print(\"The first composer in the dictionary is:\", first_composer)\n",
    "print(\"The last composer in the dictionary is:\", last_composer)"
   ]
  },
  {
   "cell_type": "markdown",
   "id": "44b09e38",
   "metadata": {},
   "source": [
    "## Question 3"
   ]
  },
  {
   "cell_type": "code",
   "execution_count": null,
   "id": "bb67a7e2",
   "metadata": {},
   "outputs": [],
   "source": [
    "Implement function triangleArea(a,b,c) that takes as input the lengths of the 3\n",
    "sides of a triangle and returns the area of the triangle. By Heron's formula, the area\n",
    "of a triangle with side lengths a, b, and c is\n",
    "sqrt(s*(s - a)*(s -b)*(s -c))\n",
    ", where\n",
    "sqrt(s = (a+b+c)/2). "
   ]
  },
  {
   "cell_type": "code",
   "execution_count": 15,
   "id": "e38617ee",
   "metadata": {},
   "outputs": [
    {
     "data": {
      "text/plain": [
       "1.7320508075688772"
      ]
     },
     "execution_count": 15,
     "metadata": {},
     "output_type": "execute_result"
    }
   ],
   "source": [
    "from math import sqrt\n",
    "\n",
    "def triangleArea(a, b, c):\n",
    "    s = (a + b + c) / 2\n",
    "    area = sqrt(s * (s - a) * (s - b) * (s - c))\n",
    "    return area\n",
    "\n",
    "# Test \n",
    "a = 2\n",
    "b = 2\n",
    "c = 2\n",
    "\n",
    "triangleArea(a, b, c)"
   ]
  },
  {
   "cell_type": "markdown",
   "id": "5653e619",
   "metadata": {},
   "source": [
    "## Question 4"
   ]
  },
  {
   "cell_type": "code",
   "execution_count": 27,
   "id": "d184be6b",
   "metadata": {},
   "outputs": [
    {
     "name": "stdout",
     "output_type": "stream",
     "text": [
      "Input the number of elements to be stored in the array: 5\n",
      "element - 0 : 25\n",
      "element - 1 : 47\n",
      "element - 2 : 42\n",
      "element - 3 : 56\n",
      "element - 4 : 32\n",
      "The Even elements are: 42 56 32 \n",
      "The Odd elements are: 25 47 \n"
     ]
    }
   ],
   "source": [
    "def separate_odd_even(numbers):\n",
    "    even_numbers = [num for num in numbers if num % 2 == 0]\n",
    "    odd_numbers = [num for num in numbers if num % 2 != 0]\n",
    "    return even_numbers, odd_numbers\n",
    "\n",
    "# Input the number of elements\n",
    "num_elements = int(input(\"Input the number of elements to be stored in the array: \"))\n",
    "\n",
    "# Input the elements\n",
    "elements = []\n",
    "for i in range(num_elements):\n",
    "    element = int(input(f\"element - {i} : \"))\n",
    "    elements.append(element)\n",
    "\n",
    "# Display the results\n",
    "print(\"The Even elements are:\", end=\" \")\n",
    "for num in even_elements:\n",
    "    print(num, end=\" \")\n",
    "print()\n",
    "print(\"The Odd elements are:\", end=\" \")\n",
    "for num in odd_elements:\n",
    "    print(num, end=\" \")\n",
    "print()\n"
   ]
  },
  {
   "cell_type": "markdown",
   "id": "e90f1741",
   "metadata": {},
   "source": [
    "## Question 5"
   ]
  },
  {
   "cell_type": "code",
   "execution_count": 31,
   "id": "99934b60",
   "metadata": {},
   "outputs": [
    {
     "name": "stdout",
     "output_type": "stream",
     "text": [
      "True\n",
      "False\n"
     ]
    }
   ],
   "source": [
    "def inside(x, y, x1, y1, x2, y2):\n",
    "    return x1 <= x <= x2 and y1 <= y <= y2\n",
    "\n",
    "# Test \n",
    "print(inside(1, 1, 0, 0, 2, 3))   # Should print True\n",
    "print(inside(-1, -1, 0, 0, 2, 3))  # Should print False\n",
    "\n"
   ]
  },
  {
   "cell_type": "markdown",
   "id": "51df3083",
   "metadata": {},
   "source": [
    "## Question 6"
   ]
  },
  {
   "cell_type": "code",
   "execution_count": 32,
   "id": "8d55e6f1",
   "metadata": {},
   "outputs": [
    {
     "name": "stdout",
     "output_type": "stream",
     "text": [
      "appyhay\n",
      "enterway\n"
     ]
    }
   ],
   "source": [
    "def pig(word):\n",
    "    # Convert the word to lowercase\n",
    "    word = word.lower()\n",
    "\n",
    "    # Check if the word starts with a vowel\n",
    "    if word[0] in ['a', 'e', 'i', 'o', 'u']:\n",
    "        return word + 'way'\n",
    "    else:\n",
    "        return word[1:] + word[0] + 'ay'\n",
    "\n",
    "# Test \n",
    "print(pig('happy'))  # Should print 'appyhay'\n",
    "print(pig('Enter'))  # Should print 'enterway'\n"
   ]
  },
  {
   "cell_type": "markdown",
   "id": "fd4bd89f",
   "metadata": {},
   "source": [
    "# Question 7"
   ]
  },
  {
   "cell_type": "code",
   "execution_count": 52,
   "id": "49ca8f7a",
   "metadata": {},
   "outputs": [
    {
     "name": "stdout",
     "output_type": "stream",
     "text": [
      "There are 15 patients of blood type A.\n",
      "There is one patient of blood type B.\n",
      "There are 13 patients of blood type AB.\n",
      "There are 15 patients of blood type O.\n",
      "There are 0 patients of blood type OO.\n"
     ]
    }
   ],
   "source": [
    "def bldcount(filename):\n",
    "    # Dictionary to store the count for each blood type\n",
    "    blood_type_count = {'A': 0, 'B': 0, 'AB': 0, 'O': 0, 'OO': 0}\n",
    "    # Open the file and read blood types\n",
    "    with open(filename, 'r') as file:\n",
    "        blood_types = file.read().split()\n",
    "\n",
    "        # Count occurrences of each blood type\n",
    "        for blood_type in blood_types:\n",
    "            blood_type_count[blood_type] += 1\n",
    "\n",
    "    # Report the counts\n",
    "    for blood_type, count in blood_type_count.items():\n",
    "        if count == 1:\n",
    "            print(f\"There is one patient of blood type {blood_type}.\")\n",
    "        else:\n",
    "            print(f\"There are {count} patients of blood type {blood_type}.\")\n",
    "\n",
    "\n",
    "# Test the function with the provided example\n",
    "bldcount('bloodtype1.txt')\n"
   ]
  },
  {
   "cell_type": "markdown",
   "id": "a32b2c59",
   "metadata": {},
   "source": [
    "# Question 8"
   ]
  },
  {
   "cell_type": "code",
   "execution_count": 51,
   "id": "4c6eb4a9",
   "metadata": {},
   "outputs": [
    {
     "name": "stdout",
     "output_type": "stream",
     "text": [
      "122.96544\n",
      "1.241401\n"
     ]
    }
   ],
   "source": [
    "def curconv(currency_code, amount):\n",
    "    # Open the file and read currency rates\n",
    "    with open('currencies.txt', 'r') as file:\n",
    "        # Extract currency rates from the file using a dictionary comprehension\n",
    "        currency_rates = {code: {'rate': float(rate), 'name': ' '.join(parts[2:])}\n",
    "                          for code, rate, *parts in (line.strip().split() for line in file if not line.startswith('#'))}\n",
    "\n",
    "        # Check if the provided currency code is valid\n",
    "        if currency_code in currency_rates:\n",
    "            # Perform the conversion\n",
    "            converted_amount = amount * currency_rates[currency_code]['rate']\n",
    "            return converted_amount\n",
    "        else:\n",
    "            print(f\"Error: Invalid currency code '{currency_code}'.\")\n",
    "            return None\n",
    "\n",
    "# Test the function with the provided examples\n",
    "print(curconv('EUR', 100))  # Should print 122.96544\n",
    "print(curconv('JPY', 100))  # Should print 1.241401\n"
   ]
  },
  {
   "cell_type": "markdown",
   "id": "40786cd5",
   "metadata": {},
   "source": [
    "# Question 9"
   ]
  },
  {
   "cell_type": "raw",
   "id": "08803ee1",
   "metadata": {},
   "source": [
    "Trying to add incompatible variables, as in adding 6 + ‘a’\n",
    "==> Type error\n",
    "\n",
    "Referring to the 12th item of a list that has only 10 items\n",
    "==> Index error\n",
    "\n",
    "Using a value that is out of range for a function’s input, such as calling math.sqrt(-1.0)\n",
    "==> ValueError \n",
    "\n",
    "Using an undeclared variable, such as print(x), when x has not been defined\n",
    "==> NameError\n",
    "\n",
    "Trying to open a file that does not exist, such as mistyping the file name or looking in the wrong directory.\n",
    "==> FileNotFoundError                             "
   ]
  },
  {
   "cell_type": "markdown",
   "id": "52713f16",
   "metadata": {},
   "source": [
    "# Question 10"
   ]
  },
  {
   "cell_type": "code",
   "execution_count": 2,
   "id": "9f7032fc",
   "metadata": {},
   "outputs": [
    {
     "name": "stdout",
     "output_type": "stream",
     "text": [
      "[1, 1, 1, 3, 5, 1, 1, 2, 1, 0, 1, 0, 1, 2, 4, 0, 1, 2, 0, 3, 1, 0, 1, 1, 0, 0]\n",
      "[1, 0, 0, 0, 1, 0, 0, 0, 0, 0, 0, 1, 0, 0, 0, 2, 0, 0, 0, 0, 0, 0, 0, 0, 0, 0]\n"
     ]
    }
   ],
   "source": [
    "def frequencies(text):\n",
    "    letters = 'abcdefghijklmnopqrstuvwxyz'\n",
    "    text = text.lower()  # Convert the text to lowercase for case-insensitive counting\n",
    "    result = [text.count(char) for char in letters]\n",
    "    return result\n",
    "\n",
    "# Test cases\n",
    "print(frequencies('The quick red fox got bored and went home.'))\n",
    "# Output: [1, 1, 1, 3, 5, 1, 1, 2, 1, 0, 1, 0, 1, 2, 4, 0, 1, 2, 0, 2, 1, 0, 1, 1, 0, 0]\n",
    "\n",
    "print(frequencies('apple'))\n",
    "# Output: [1, 0, 0, 0, 1, 0, 0, 0, 0, 0, 0, 1, 0, 0, 0, 2, 0, 0, 0, 0, 0, 0, 0, 0, 0, 0]\n"
   ]
  },
  {
   "cell_type": "code",
   "execution_count": null,
   "id": "a1af0631",
   "metadata": {},
   "outputs": [],
   "source": []
  }
 ],
 "metadata": {
  "kernelspec": {
   "display_name": "Python 3 (ipykernel)",
   "language": "python",
   "name": "python3"
  },
  "language_info": {
   "codemirror_mode": {
    "name": "ipython",
    "version": 3
   },
   "file_extension": ".py",
   "mimetype": "text/x-python",
   "name": "python",
   "nbconvert_exporter": "python",
   "pygments_lexer": "ipython3",
   "version": "3.11.5"
  }
 },
 "nbformat": 4,
 "nbformat_minor": 5
}
